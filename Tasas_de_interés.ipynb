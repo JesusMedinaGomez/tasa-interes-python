{
  "nbformat": 4,
  "nbformat_minor": 0,
  "metadata": {
    "colab": {
      "provenance": [],
      "authorship_tag": "ABX9TyOEJG5f7QPywC8xfWIK8B1K",
      "include_colab_link": true
    },
    "kernelspec": {
      "name": "python3",
      "display_name": "Python 3"
    },
    "language_info": {
      "name": "python"
    }
  },
  "cells": [
    {
      "cell_type": "markdown",
      "metadata": {
        "id": "view-in-github",
        "colab_type": "text"
      },
      "source": [
        "<a href=\"https://colab.research.google.com/github/JesusMedinaGomez/tasa-interes-python/blob/main/Tasas_de_inter%C3%A9s.ipynb\" target=\"_parent\"><img src=\"https://colab.research.google.com/assets/colab-badge.svg\" alt=\"Open In Colab\"/></a>"
      ]
    },
    {
      "cell_type": "markdown",
      "source": [
        "# Interés\n",
        "\n",
        "El **interés** es la compensación que un prestatario otorga a un prestamista por el uso temporal de sus recursos. Si se otorga un monto $K$ a un prestatario y se devuelve al prestamista un monto $M>K$, entonces el interés generado $I$ es la diferencia:\n",
        "\n",
        "$$ I=M-K $$"
      ],
      "metadata": {
        "id": "3Xd-48_2mbIA"
      }
    },
    {
      "cell_type": "code",
      "source": [
        "K = 4000  # capital inicial\n",
        "M = 5000  # monto devuelto\n",
        "I = M - K\n",
        "print(f\"Interés generado: ${I}\")"
      ],
      "metadata": {
        "colab": {
          "base_uri": "https://localhost:8080/"
        },
        "id": "rMDPcGhOFVFR",
        "outputId": "ab23eb1e-1ce2-4600-f7c2-4fddece1f4ac"
      },
      "execution_count": 1,
      "outputs": [
        {
          "output_type": "stream",
          "name": "stdout",
          "text": [
            "Interés generado: $1000\n"
          ]
        }
      ]
    },
    {
      "cell_type": "markdown",
      "source": [
        "# Tasa de interés\n",
        "\n",
        "La **tasa de interés**  $i$ es una proporción que expresa el costo o la rentabilidad del uso del capital durante un determinado periodo de tiempo. Esta tasa permite calcular el interés generado $I$ por el préstamo o la inversión de un capital $K$ durante $t$ periodos, mediante la fórmula de **interés total**, es un método específico para calcular el interés generado cuando este **no se capitaliza** a lo largo del tiempo. Se calcula con la fórmula:\n",
        "\n",
        "$$\n",
        "I = K \\cdot i \\cdot t\n",
        "$$\n"
      ],
      "metadata": {
        "id": "03CX3hQwFaO3"
      }
    },
    {
      "cell_type": "code",
      "source": [
        "K = 1000   # Capital prestado\n",
        "i = 0.01   # Tasa de interés del 1% por periodo\n",
        "t = 2      # Número de periodos sin capitalización\n",
        "\n",
        "I = K * i * t  # Interés simple generado\n",
        "M = I + K      # Monto total a devolver\n",
        "\n",
        "print(f\"Préstamo: ${K}\")\n",
        "print(f\"Periodos: {t}\")\n",
        "print(f\"Monto a pagar: ${M}\")\n"
      ],
      "metadata": {
        "colab": {
          "base_uri": "https://localhost:8080/"
        },
        "id": "rSf4OIntGb2r",
        "outputId": "0c74980b-6506-417d-baa0-bddda10f8eff"
      },
      "execution_count": 4,
      "outputs": [
        {
          "output_type": "stream",
          "name": "stdout",
          "text": [
            "Préstamo: $1000\n",
            "Periodos: 2\n",
            "Monto a pagar: $1020.0\n"
          ]
        }
      ]
    },
    {
      "cell_type": "code",
      "execution_count": null,
      "metadata": {
        "id": "8KdTIITMIFIQ"
      },
      "outputs": [],
      "source": [
        "def interes_generado(K: float, i: float, t: int) -> float:\n",
        "    #Calcula el interés generado.\n",
        "    return K * i * t"
      ]
    },
    {
      "cell_type": "markdown",
      "source": [
        "Un ejemplo de uso para un capital de $K=3600$, una tasa de **interés nominal** $i=1\\%=0.01$ por un periodo de 1 año."
      ],
      "metadata": {
        "id": "JsGFJsal3IEF"
      }
    },
    {
      "cell_type": "code",
      "source": [
        "K = 3600\n",
        "i = 0.01\n",
        "t = 1\n",
        "I = interes_generado(K,i,t)\n",
        "I"
      ],
      "metadata": {
        "colab": {
          "base_uri": "https://localhost:8080/"
        },
        "id": "hlgKijVU3Zn_",
        "outputId": "3056211e-c7a9-4895-f34c-cff81fed8c36"
      },
      "execution_count": null,
      "outputs": [
        {
          "output_type": "execute_result",
          "data": {
            "text/plain": [
              "36.0"
            ]
          },
          "metadata": {},
          "execution_count": 30
        }
      ]
    },
    {
      "cell_type": "markdown",
      "source": [
        "De aquí se sigue la obtención del monto total a pagar $M$ mediante el interés generado y el capital invertido:\n",
        "\n",
        "$$ M = K+I $$"
      ],
      "metadata": {
        "id": "F6fHEAHF2vbb"
      }
    },
    {
      "cell_type": "code",
      "source": [
        "M = K + I\n",
        "M"
      ],
      "metadata": {
        "colab": {
          "base_uri": "https://localhost:8080/"
        },
        "id": "W3EkFs5hujKd",
        "outputId": "0366e579-7296-40ab-fa9f-e70fb2222861"
      },
      "execution_count": null,
      "outputs": [
        {
          "output_type": "execute_result",
          "data": {
            "text/plain": [
              "3636.0"
            ]
          },
          "metadata": {},
          "execution_count": 31
        }
      ]
    },
    {
      "cell_type": "markdown",
      "source": [
        "Para un caso de **interés periódico**, es posible determinar la tasa de interés que se aplicará en cada subperiodo del plazo total de la operación.\n",
        "\n",
        "Si el plazo se divide en $n$ subperiodos iguales, y se conoce la **tasa nominal** $i_N$, entonces la **tasa periódica** $i_p$ (la que se aplica en cada subperiodo) se calcula con la fórmula:\n",
        "\n",
        "$$\n",
        "i_p = \\frac{i_N}{n}\n",
        "$$\n",
        "\n",
        "Por ejemplo, si se tiene un capital inicial de $K = 3600$, una tasa nominal anual de $i_N = 0.12$ y se desea trabajar con **periodos mensuales** ($n = 12$), entonces la **tasa periódica mensual** será:\n",
        "\n",
        "$$\n",
        "i_p = \\frac{0.12}{12} = 0.01\n",
        "$$\n",
        "\n",
        "Es decir, cada mes se aplicará un interés del 1% sobre el capital según el modelo de interés correspondiente.\n"
      ],
      "metadata": {
        "id": "1Crldvss35Ar"
      }
    },
    {
      "cell_type": "code",
      "source": [
        "def interes_periodico(i_N, K, n):\n",
        "    i_p = i_N / n\n",
        "    M = K * (1 + i_p * n)\n",
        "    I = M - K\n",
        "    return i_p, M, I\n",
        "\n",
        "# Ejemplo de uso\n",
        "i_N = 0.40\n",
        "K = 4510\n",
        "n = 12\n",
        "\n",
        "i_p, M, I = interes_periodico(i_N, K, n)\n",
        "\n",
        "print(f\"Capital inicial: ${K}\")\n",
        "print(f\"Tasa periódica: {i_p}\")\n",
        "print(f\"Monto final: ${M}\")\n",
        "print(f\"Interés total generado: ${I}\")\n"
      ],
      "metadata": {
        "colab": {
          "base_uri": "https://localhost:8080/"
        },
        "id": "pUGpr4KbwykE",
        "outputId": "041a915a-3662-42c2-ca5b-e08c57846642"
      },
      "execution_count": 5,
      "outputs": [
        {
          "output_type": "stream",
          "name": "stdout",
          "text": [
            "Capital inicial: $4510\n",
            "Tasa periódica: 0.03333333333333333\n",
            "Monto final: $6314.0\n",
            "Interés total generado: $1804.0\n"
          ]
        }
      ]
    },
    {
      "cell_type": "code",
      "source": [
        "prueba = 10"
      ],
      "metadata": {
        "id": "aO5Fryr8_Qr7"
      },
      "execution_count": null,
      "outputs": []
    }
  ]
}